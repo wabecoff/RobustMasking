{
 "cells": [
  {
   "cell_type": "code",
   "execution_count": 10,
   "id": "470e866a-c677-4eb6-b83e-30b71819f08c",
   "metadata": {},
   "outputs": [
    {
     "name": "stdout",
     "output_type": "stream",
     "text": [
      "('LAST_NAME', '1')\n",
      "('DOB', '')\n",
      "('FULL_NAME', '1')\n",
      "[]\n"
     ]
    }
   ],
   "source": [
    "import re\n",
    "\n",
    "def extract_masked_info(input_str, masked_str):\n",
    "    # Regular expression pattern to match mask tokens and categories\n",
    "    pattern = r'\\[\\[(FULL_NAME|FIRST_NAME|LAST_NAME|DOB)_?(\\d+|X)?\\]\\]'\n",
    "\n",
    "    # Find all matches in the masked string\n",
    "    matches = re.findall(pattern, masked_str)\n",
    "\n",
    "    # Initialize an empty list to store the tuples\n",
    "    pairs = []\n",
    "\n",
    "    # Loop through the matches and extract information from the input string\n",
    "    for match in matches:\n",
    "        category, index = match\n",
    "        print(match)\n",
    "        mask_token = f'[[{category}_{index}]]'\n",
    "\n",
    "        if category == 'FULL_NAME':\n",
    "            full_name_pattern = r'(?<!\\S)' + re.escape(masked_str) + r'(?!\\S)'\n",
    "            full_name_match = re.search(full_name_pattern, input_str)\n",
    "            if full_name_match:\n",
    "                pairs.append((mask_token, full_name_match.group(0).strip()))\n",
    "        else:\n",
    "            field_pattern = r'(?<!\\S)' + re.escape(masked_str) + r'(?!\\S)'\n",
    "            field_match = re.search(field_pattern, input_str)\n",
    "            if field_match:\n",
    "                pairs.append((mask_token, field_match.group(0).strip()))\n",
    "\n",
    "    return pairs\n",
    "\n",
    "# Example usage\n",
    "input_string = \"Mr. Wang was born on January 21, 1949. On that day, Ethan Wang came into the world\"\n",
    "masked_string = \"Mr. [[LAST_NAME_1]] was born on [[DOB]]. On that day, [[FULL_NAME_1]] came into the world\"\n",
    "\n",
    "result = extract_masked_info(input_string, masked_string)\n",
    "print(result)\n"
   ]
  },
  {
   "cell_type": "code",
   "execution_count": null,
   "id": "26481cc6-43fc-4561-b861-d691653b4abf",
   "metadata": {},
   "outputs": [],
   "source": []
  }
 ],
 "metadata": {
  "kernelspec": {
   "display_name": "Python 3 (ipykernel)",
   "language": "python",
   "name": "python3"
  },
  "language_info": {
   "codemirror_mode": {
    "name": "ipython",
    "version": 3
   },
   "file_extension": ".py",
   "mimetype": "text/x-python",
   "name": "python",
   "nbconvert_exporter": "python",
   "pygments_lexer": "ipython3",
   "version": "3.9.5"
  }
 },
 "nbformat": 4,
 "nbformat_minor": 5
}
