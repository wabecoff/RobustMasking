{
 "cells": [
  {
   "cell_type": "code",
   "execution_count": 1,
   "id": "9c03a559-81f1-4f11-97c2-7e2c07177a41",
   "metadata": {},
   "outputs": [
    {
     "name": "stderr",
     "output_type": "stream",
     "text": [
      "/Users/williamshabecoff/.pyenv/versions/3.10.10/lib/python3.10/site-packages/tqdm/auto.py:21: TqdmWarning: IProgress not found. Please update jupyter and ipywidgets. See https://ipywidgets.readthedocs.io/en/stable/user_install.html\n",
      "  from .autonotebook import tqdm as notebook_tqdm\n"
     ]
    }
   ],
   "source": [
    "#packages\n",
    "import torch\n",
    "import numpy as np\n",
    "import pandas as pd\n",
    "from transformers import AutoTokenizer, T5Config, T5ForConditionalGeneration\n",
    "from torch import nn\n",
    "\n",
    "#local utilities\n",
    "import extraction as ex\n",
    "import indexing\n",
    "import t5mod\n",
    "import utils"
   ]
  },
  {
   "cell_type": "code",
   "execution_count": 2,
   "id": "63493a12-0b52-4e37-95f5-6483791544c4",
   "metadata": {},
   "outputs": [
    {
     "name": "stderr",
     "output_type": "stream",
     "text": [
      "/Users/williamshabecoff/.pyenv/versions/3.10.10/lib/python3.10/site-packages/transformers/models/t5/tokenization_t5_fast.py:160: FutureWarning: This tokenizer was incorrectly instantiated with a model max length of 512 which will be corrected in Transformers v5.\n",
      "For now, this behavior is kept to avoid breaking backwards compatibility when padding/encoding with `truncation is True`.\n",
      "- Be aware that you SHOULD NOT rely on t5-large automatically truncating your input to 512 when padding/encoding.\n",
      "- If you want to encode/pad to sequences longer than 512 you can either instantiate this tokenizer with `model_max_length` or pass `max_length` when encoding/padding.\n",
      "- To avoid this warning, please instantiate this tokenizer with `model_max_length` set to your preferred value.\n",
      "  warnings.warn(\n"
     ]
    }
   ],
   "source": [
    "model, tokenizer = t5mod.get_model('model/t5mask_improved_2.pt', 'model/t5_config.json')"
   ]
  },
  {
   "cell_type": "code",
   "execution_count": 23,
   "id": "1813d3f1-d06c-4615-bad6-65536b085542",
   "metadata": {},
   "outputs": [],
   "source": [
    "def fix_masks(unmasked, masked):\n",
    "    p = ex.extract_masked_info(unmasked, masked)\n",
    "    try:\n",
    "        p = indexing.rectify(p)\n",
    "        replacements = [pair[0] for pair in p]\n",
    "        masked = ex.replace_masks(masked, replacements)\n",
    "    except:\n",
    "        print('Exception Occured')\n",
    "    return masked, p\n",
    "\n",
    "def mask(unmasked, model, tokenizer):\n",
    "    first_mask = t5mod.infer(model, tokenizer, unmasked)\n",
    "    cur_mask = utils.correct_corrupted(unmasked, first_mask)\n",
    "    final_text, masks = fix_masks(unmasked, cur_mask)\n",
    "    return final_text, masks\n",
    "    "
   ]
  },
  {
   "cell_type": "code",
   "execution_count": 3,
   "id": "0f67f456-b0a2-4f17-b366-326e4cbadd33",
   "metadata": {},
   "outputs": [],
   "source": [
    "txt1 = \"Oscar-Claude Monet ; (14 November 1840 – 5 December 1926) was a French painter and founder of impressionist painting who is seen as a key precursor to modernism, especially in his attempts to paint nature as he perceived it.[1] During his long career, he was the most consistent and prolific practitioner of impressionism's philosophy of expressing one's perceptions before nature, especially as applied to plein air (outdoor) landscape painting.[2] The term \\\"Impressionism\\\" is derived from the title of his painting Impression, soleil levant, exhibited in 1874 (the \\\"exhibition of rejects\\\") initiated by Monet and his associates as an alternative to the Salon. Monet was raised in Le Havre, Normandy, and became interested in the outdoors and drawing from an early age. Although his mother, Louise-Justine Aubrée Monet, supported his ambitions to be a painter, his father, Claude-Adolphe, disapproved and wanted him to pursue a career in business. He was very close to his mother, but she died in January 1857 when he was sixteen years old, and he was sent to live with his childless, widowed but wealthy aunt, Marie-Jeanne Lecadre. He went on to study at the Académie Suisse, and under the academic history painter Charles Gleyre, where he was a classmate of Auguste Renoir. His early works include landscapes, seascapes, and portraits, but attracted little attention. A key early influence was Eugène Boudin who introduced him to the concept of plein air painting. From 1883, Monet lived in Giverny, also in northern France, where he purchased a house and property and began a vast landscaping project, including a water-lily pond.\""
   ]
  },
  {
   "cell_type": "code",
   "execution_count": 4,
   "id": "5cabb077-3f94-4808-9f1b-b9b926f48e60",
   "metadata": {},
   "outputs": [],
   "source": [
    "txt2 = \"Barack Obama (born August 4, 1961) is an American politician who served as the 44th president of the United States from 2009 to 2017. A member of the Democratic Party, he was the first African-American president. Obama previously served as a U.S. senator representing Illinois from 2005 to 2008, as an Illinois state senator from 1997 to 2004, and as a civil rights lawyer and university lecturer.\""
   ]
  },
  {
   "cell_type": "code",
   "execution_count": 24,
   "id": "e0aab37d-53c1-4228-b152-2b4ef004534b",
   "metadata": {},
   "outputs": [
    {
     "name": "stdout",
     "output_type": "stream",
     "text": [
      "[[FULL_NAME_1]] (born [[DOB]]) is an American politician who served as the 44th president of the United States from 2009 to 2017. A member of the Democratic Party, he was the first African-American president. [[LAST_NAME_1]] previously served as a U.S. senator representing Illinois from 2005 to 2008, as an Illinois state senator from 1997 to 2004, and as a civil rights lawyer and university lecturer.\n"
     ]
    }
   ],
   "source": [
    "span, pairs = mask(txt2, model, tokenizer)"
   ]
  },
  {
   "cell_type": "code",
   "execution_count": 14,
   "id": "c3020744-f4c2-41a1-9893-2265a4c0b9f4",
   "metadata": {},
   "outputs": [
    {
     "data": {
      "text/plain": [
       "'[[FULL_NAME_1]] ; ([[DOB]] – [[DOB]]) was a French painter and founder of impressionist painting who is seen as a key precursor to modernism, especially in his attempts to paint nature as he perceived it.(1) During his long career, he was the most consistent and prolific practitioner of impressionism\\'s philosophy of expressing one\\'s perceptions before nature, especially as applied to plein air (outdoor) landscape painting.(2) The term \"Impressionism\" is derived from the title of his painting Impression, [[FULL_NAME_2]], exhibited in [[DOB]] (the \"exhibition of rejects\") initiated by [[FIRST_NAME_1]] and his associates as an alternative to the Salon. [[FIRST_NAME_1]] was raised in [[FULL_NAME_3]], Normandy, and became interested in the outdoors and drawing from an early age. Although his mother,[[FULL_NAME_1]], supported his ambitions to be a painter, his father, [[FULL_NAME_2]], disapproved and wanted him to pursue a career in business. He was very close to his mother, but she died in [[DOB]] when he was sixteen years old, and he was sent to live with his childless, widowed but wealthy aunt, [[FULL_NAME_3]]. He went on to study at the Académie Suisse, and under the academic history painter [[FULL_NAME_X]], where he was a classmate of [[FULL_NAME_X]]. His early works include landscapes, seascapes, and portraits, but attracted little attention. A key early influence was [[FULL_NAME_X]] who introduced him to the concept of plein air painting. From 1883, [[FIRST_NAME_1]] lived in [[FIRST_NAME_X]], also in northern France, where he purchased a house and property and began a vastlandscaping project, including a water-lily pond.'"
      ]
     },
     "execution_count": 14,
     "metadata": {},
     "output_type": "execute_result"
    }
   ],
   "source": [
    "span"
   ]
  },
  {
   "cell_type": "code",
   "execution_count": 6,
   "id": "89494f43-76ea-4525-8d78-aea13ff1e9e8",
   "metadata": {},
   "outputs": [],
   "source": [
    "masked = t5mod.infer(model, tokenizer, txt1)"
   ]
  },
  {
   "cell_type": "code",
   "execution_count": 9,
   "id": "752ea658-37e7-42d1-898d-8090dfb8ed09",
   "metadata": {},
   "outputs": [
    {
     "data": {
      "text/plain": [
       "'[[FULL_NAME_1]] ; ([[DOB]] – [[DOB]]) was a French painter and founder of impressionist painting who is seen as a key precursor to modernism, especially in his attempts to paint nature as he perceived it.(1) During his long career, he was the most consistent and prolific practitioner of impressionism\\'s philosophy of expressing one\\'s perceptions before nature, especially as applied to plein air (outdoor) landscape painting.(2) The term \"Impressionism\" is derived from the title of his painting Impression, [[FULL_NAME_2]], exhibited in [[DOB]] (the \"exhibition of rejects\") initiated by [[FIRST_NAME_1]] and his associates as an alternative to the Salon. [[FIRST_NAME_1]] was raised in [[FULL_NAME_3]], Normandy, and became interested in the outdoors and drawing from an early age. Although his mother,[[FULL_NAME_1]], supported his ambitions to be a painter, his father, [[FULL_NAME_2]], disapproved and wanted him to pursue a career in business. He was very close to his mother, but she died in [[DOB]] when he was sixteen years old, and he was sent to live with his childless, widowed but wealthy aunt, [[FULL_NAME_3]]. He went on to study at the Académie Suisse, and under the academic history painter [[FULL_NAME_X]], where he was a classmate of [[FULL_NAME_X]]. His early works include landscapes, seascapes, and portraits, but attracted little attention. A key early influence was [[FULL_NAME_X]] who introduced him to the concept of plein air painting. From 1883, [[FIRST_NAME_1]] lived in [[FIRST_NAME_X]], also in northern France, where he purchased a house and property and began a vastlandscaping project, including a water-lily pond.'"
      ]
     },
     "execution_count": 9,
     "metadata": {},
     "output_type": "execute_result"
    }
   ],
   "source": [
    "masked"
   ]
  },
  {
   "cell_type": "code",
   "execution_count": 7,
   "id": "5cf6d980-f2aa-4dd0-904f-fd91ba0de6d5",
   "metadata": {},
   "outputs": [],
   "source": []
  },
  {
   "cell_type": "code",
   "execution_count": null,
   "id": "2d21dcd2-1806-4cde-877a-0cdbd2a554d7",
   "metadata": {},
   "outputs": [],
   "source": []
  },
  {
   "cell_type": "code",
   "execution_count": 10,
   "id": "669202ed-d539-4d26-b29c-fa6690ecfc40",
   "metadata": {},
   "outputs": [],
   "source": [
    "txt1, output = utils.rm_space_b4_punc(txt1), utils.rm_space_b4_punc(masked)\n",
    "output = utils.correct_corrupted(txt1, masked)"
   ]
  },
  {
   "cell_type": "code",
   "execution_count": 11,
   "id": "73ec336e-62d7-41e2-b84a-a426a14eb1b3",
   "metadata": {},
   "outputs": [
    {
     "data": {
      "text/plain": [
       "('Oscar-Claude Monet; (14 November 1840 – 5 December 1926) was a French painter and founder of impressionist painting who is seen as a key precursor to modernism, especially in his attempts to paint nature as he perceived it.(1) During his long career, he was the most consistent and prolific practitioner of impressionism\\'s philosophy of expressing one\\'s perceptions before nature, especially as applied to plein air (outdoor) landscape painting.(2) The term \"Impressionism\" is derived from the title of his painting Impression, soleil levant, exhibited in 1874 (the \"exhibition of rejects\") initiated by Monet and his associates as an alternative to the Salon. Monet was raised in Le Havre, Normandy, and became interested in the outdoors and drawing from an early age. Although his mother, Louise-Justine Aubrée Monet, supported his ambitions to be a painter, his father, Claude-Adolphe, disapproved and wanted him to pursue a career in business. He was very close to his mother, but she died in January 1857 when he was sixteen years old, and he was sent to live with his childless, widowed but wealthy aunt, Marie-Jeanne Lecadre. He went on to study at the Académie Suisse, and under the academic history painter Charles Gleyre, where he was a classmate of Auguste Renoir. His early works include landscapes, seascapes, and portraits, but attracted little attention. A key early influence was Eugène Boudin who introduced him to the concept of plein air painting. From 1883, Monet lived in Giverny, also in northern France, where he purchased a house and property and began a vast landscaping project, including a water-lily pond.',\n",
       " '[[FULL_NAME_1]] ; ([[DOB]] – [[DOB]]) was a French painter and founder of impressionist painting who is seen as a key precursor to modernism, especially in his attempts to paint nature as he perceived it.(1) During his long career, he was the most consistent and prolific practitioner of impressionism\\'s philosophy of expressing one\\'s perceptions before nature, especially as applied to plein air (outdoor) landscape painting.(2) The term \"Impressionism\" is derived from the title of his painting Impression, [[FULL_NAME_2]], exhibited in [[DOB]] (the \"exhibition of rejects\") initiated by [[FIRST_NAME_1]] and his associates as an alternative to the Salon. [[FIRST_NAME_1]] was raised in [[FULL_NAME_3]], Normandy, and became interested in the outdoors and drawing from an early age. Although his mother,[[FULL_NAME_1]], supported his ambitions to be a painter, his father, [[FULL_NAME_2]], disapproved and wanted him to pursue a career in business. He was very close to his mother, but she died in [[DOB]] when he was sixteen years old, and he was sent to live with his childless, widowed but wealthy aunt, [[FULL_NAME_3]]. He went on to study at the Académie Suisse, and under the academic history painter [[FULL_NAME_X]], where he was a classmate of [[FULL_NAME_X]]. His early works include landscapes, seascapes, and portraits, but attracted little attention. A key early influence was [[FULL_NAME_X]] who introduced him to the concept of plein air painting. From 1883, [[FIRST_NAME_1]] lived in [[FIRST_NAME_X]], also in northern France, where he purchased a house and property and began a vast landscaping project, including a water-lily pond.')"
      ]
     },
     "execution_count": 11,
     "metadata": {},
     "output_type": "execute_result"
    }
   ],
   "source": [
    "txt1, output"
   ]
  },
  {
   "cell_type": "code",
   "execution_count": null,
   "id": "8779f3e5-bdc7-4049-b032-6c84dc80ba14",
   "metadata": {},
   "outputs": [],
   "source": []
  },
  {
   "cell_type": "code",
   "execution_count": null,
   "id": "90b7afde-138f-4738-a9f6-9e0c618773e4",
   "metadata": {},
   "outputs": [],
   "source": [
    "a"
   ]
  },
  {
   "cell_type": "code",
   "execution_count": null,
   "id": "d459e23e-9c26-4371-8364-393b40de9e1b",
   "metadata": {},
   "outputs": [],
   "source": [
    "ex.recover(a,b)"
   ]
  },
  {
   "cell_type": "code",
   "execution_count": null,
   "id": "b871e2af-a15e-441a-8a2b-12fc86fd3aaf",
   "metadata": {},
   "outputs": [],
   "source": []
  }
 ],
 "metadata": {
  "kernelspec": {
   "display_name": "python3.10.10",
   "language": "python",
   "name": "python3.10.10"
  },
  "language_info": {
   "codemirror_mode": {
    "name": "ipython",
    "version": 3
   },
   "file_extension": ".py",
   "mimetype": "text/x-python",
   "name": "python",
   "nbconvert_exporter": "python",
   "pygments_lexer": "ipython3",
   "version": "3.10.10"
  }
 },
 "nbformat": 4,
 "nbformat_minor": 5
}
