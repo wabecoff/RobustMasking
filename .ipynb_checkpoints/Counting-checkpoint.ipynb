{
 "cells": [
  {
   "cell_type": "code",
   "execution_count": 1,
   "id": "0a183d63-78d4-4817-b117-bfe9dedb2978",
   "metadata": {},
   "outputs": [],
   "source": [
    "def edit_distance(str1, str2):\n",
    "    # Convert both strings to lower case to ignore case differences\n",
    "    str1, str2 = str1.lower(), str2.lower()\n",
    "\n",
    "    # Create a table to store results of subproblems\n",
    "    dp = [[0 for x in range(len(str2) + 1)] for x in range(len(str1) + 1)]\n",
    "\n",
    "    # Fill dp[][] in bottom up manner\n",
    "    for i in range(len(str1) + 1):\n",
    "        for j in range(len(str2) + 1):\n",
    "\n",
    "            # If first string is empty, only option is to insert all characters of second string\n",
    "            if i == 0:\n",
    "                dp[i][j] = j\n",
    "\n",
    "            # If second string is empty, only option is to remove all characters of first string\n",
    "            elif j == 0:\n",
    "                dp[i][j] = i\n",
    "\n",
    "            # If last characters are the same, ignore last character and recur for remaining string\n",
    "            elif str1[i - 1] == str2[j - 1]:\n",
    "                dp[i][j] = dp[i - 1][j - 1]\n",
    "\n",
    "            # If last character is different, consider all possibilities and find minimum\n",
    "            else:\n",
    "                dp[i][j] = 1 + min(dp[i][j - 1],        # Insert\n",
    "                                   dp[i - 1][j],        # Remove\n",
    "                                   dp[i - 1][j - 1])    # Replace\n",
    "\n",
    "    return dp[len(str1)][len(str2)]"
   ]
  },
  {
   "cell_type": "code",
   "execution_count": 255,
   "id": "cc580c08-a3b8-4458-ab53-c39a05056e47",
   "metadata": {},
   "outputs": [],
   "source": [
    "class Name:\n",
    "    def __init__(self):\n",
    "        self.first_name = None\n",
    "        self.last_name = None\n",
    "        self.full_name = None\n",
    "        self.middle_name = None\n",
    "        self.variants = []\n",
    "        self.index = None\n",
    "\n",
    "\n",
    "    def str_compare(self, s1, s2):\n",
    "        if s1 == s2:\n",
    "            return 1\n",
    "        elif edit_distance(s1, s2) < 2:\n",
    "            return 0.5\n",
    "        else: \n",
    "            return 0\n",
    "\n",
    "\n",
    "    def is_same(self, s, category):\n",
    "        s = s.lower()\n",
    "        target = None\n",
    "\n",
    "        \n",
    "        if category == 'first':\n",
    "            if self.first_name == None:\n",
    "                return 0  \n",
    "            target = self.first_name.lower()\n",
    "            \n",
    "            return self.str_compare(s, target)\n",
    "\n",
    "\n",
    "        if category == 'last':\n",
    "            if self.last_name == None:\n",
    "                return 0  \n",
    "            target = self.last_name.lower()\n",
    "\n",
    "            return self.str_compare(s, target)\n",
    "\n",
    "        if category == 'full':\n",
    "            test_name = Name()\n",
    "            test_name.fill(s, category)\n",
    "\n",
    "            first = self.is_same(test_name.first_name, 'first')\n",
    "            last = self.is_same(test_name.last_name, 'last')\n",
    "\n",
    "            if (first == 0 and self.first_name != None) or (last == 0 and self.last_name != None):\n",
    "                return 0\n",
    "            else:\n",
    "                return (first + last) / 2\n",
    "\n",
    "    def complete(self):       \n",
    "        if self.first_name != None and self.last_name != None:\n",
    "            if self.full_name == None:\n",
    "                self.full_name = self.first_name + ' ' + self.last_name\n",
    "            \n",
    "            elif len(self.full_name) < len(self.first_name + ' ' + self.last_name):\n",
    "                self.full_name = self.first_name + ' ' + self.last_name\n",
    "                return\n",
    "            \n",
    "        elif self.first_name != None:\n",
    "            self.full_name = self.first_name\n",
    "            \n",
    "        elif self.last_name != None:\n",
    "            self.full_name = self.last_name\n",
    "        \n",
    "            \n",
    "    def fill(self, s, category):\n",
    "        # Split the input string into tokens\n",
    "        tokens = s.split()\n",
    "\n",
    "        if category == 'full':\n",
    "            # Use the first token as the first name\n",
    "            if self.first_name == None:\n",
    "                self.first_name = tokens[0]\n",
    "            # Use longer form of name when possible\n",
    "            elif len(tokens[0]) > len(self.first_name):\n",
    "                self.first_name = tokens[0]\n",
    "                \n",
    "\n",
    "            # Determine the last name\n",
    "            if len(tokens) > 1:\n",
    "                last_name_tokens = tokens[1:]\n",
    "\n",
    "                if len(last_name_tokens) > 1:\n",
    "                    # Check if the second to last token is short (<= 3 characters)\n",
    "                    if len(last_name_tokens[-2]) <= 3 and len(last_name_tokens) > 1:\n",
    "                        last_name_tokens[-2] += \" \" + last_name_tokens[-1]\n",
    "                        last_name = \" \".join(last_name_tokens[:-1])\n",
    "                    else:\n",
    "                        last_name = last_name_tokens[-1]\n",
    "    \n",
    "                else:\n",
    "                    last_name = last_name_tokens[-1]\n",
    "                \n",
    "            if self.last_name == None and last_name != \"\":\n",
    "                self.last_name = last_name\n",
    "                \n",
    "            # Use longer form of name when possible   \n",
    "            elif self.last_name != None and len(last_name) > len(self.last_name):\n",
    "                self.last_name = last_name\n",
    "\n",
    "        elif category == 'first':\n",
    "\n",
    "            if self.first_name == None:\n",
    "                self.first_name = s\n",
    "            # Use longer form of name when possible\n",
    "            elif len(s) > len(self.first_name):\n",
    "                self.first_name = s\n",
    "\n",
    "        elif category == 'last':\n",
    "\n",
    "            if self.last_name == None:\n",
    "                self.last_name = s\n",
    "            # Use longer form of name when possible\n",
    "            elif len(s) > len(self.last_name):\n",
    "                self.last_name = s\n",
    "\n",
    "        else:\n",
    "            raise ValueError(\"Invalid category. Use 'full', 'first', or 'last'.\")\n",
    "\n",
    "        self.complete()\n",
    "\n",
    "        return str(self.first_name) + ' ' + str(self.last_name)\n",
    "            \n",
    "        \n",
    "        "
   ]
  },
  {
   "cell_type": "code",
   "execution_count": 256,
   "id": "640b0195-af5a-4697-aee4-fb6ff2a9cb2f",
   "metadata": {},
   "outputs": [],
   "source": [
    "j = Name()"
   ]
  },
  {
   "cell_type": "code",
   "execution_count": 257,
   "id": "d2da97bc-f0c0-41e9-b642-75b0bae6775d",
   "metadata": {},
   "outputs": [
    {
     "data": {
      "text/plain": [
       "'Rosy Ronald'"
      ]
     },
     "execution_count": 257,
     "metadata": {},
     "output_type": "execute_result"
    }
   ],
   "source": [
    "j.fill('Rosy', 'first')\n",
    "j.fill('Ronald', 'last')"
   ]
  },
  {
   "cell_type": "code",
   "execution_count": 258,
   "id": "0969dc70-7abb-4f0b-8d51-1a579cc48c97",
   "metadata": {},
   "outputs": [
    {
     "data": {
      "text/plain": [
       "'Rosy Ronald'"
      ]
     },
     "execution_count": 258,
     "metadata": {},
     "output_type": "execute_result"
    }
   ],
   "source": [
    "j.full_name"
   ]
  },
  {
   "cell_type": "code",
   "execution_count": 259,
   "id": "c11ab49a-632b-4570-b877-00951389ad4e",
   "metadata": {},
   "outputs": [
    {
     "data": {
      "text/plain": [
       "0.5"
      ]
     },
     "execution_count": 259,
     "metadata": {},
     "output_type": "execute_result"
    }
   ],
   "source": [
    "j.is_same('Ronal','last')"
   ]
  },
  {
   "cell_type": "code",
   "execution_count": 260,
   "id": "f23214d3-02b4-4e35-8d45-c27f59d91acc",
   "metadata": {},
   "outputs": [],
   "source": [
    "import re\n",
    "import extraction as ex\n",
    "\n",
    "def mask_type(mask):\n",
    "    if \"FULL\" in mask: return 'full'\n",
    "    if \"DOB\" in mask: return 'dob'\n",
    "    if \"FIRST\" in mask: return 'first'\n",
    "    if \"LAST\" in mask: return 'last'\n",
    "\n",
    "def change_index(mask, ind):\n",
    "    pattern = r'\\d|X'\n",
    "    res = re.sub(pattern, str(ind), mask, count=1)\n",
    "    return res\n",
    "    "
   ]
  },
  {
   "cell_type": "code",
   "execution_count": 261,
   "id": "a548b5f9-3a24-4bfd-8fe4-d7eb191b40da",
   "metadata": {},
   "outputs": [
    {
     "data": {
      "text/plain": [
       "[('[[FULL_NAME_X]]', 'Ethan Wang'),\n",
       " ('[[FULL_NAME_X]]', 'Jerry Cain'),\n",
       " ('[[LAST_NAME_X]]', 'Wang'),\n",
       " ('[[DOB]]', 'July 12, 1996')]"
      ]
     },
     "execution_count": 261,
     "metadata": {},
     "output_type": "execute_result"
    }
   ],
   "source": [
    "input_string = \"Ethan Wang, Jerry Cain was born, Wang, on July 12, 1996\"\n",
    "masked_string = \"[[FULL_NAME_X]], [[FULL_NAME_X]] was born, [[LAST_NAME_X]], on [[DOB]]\"\n",
    "\n",
    "p = ex.extract_masked_info(input_string, masked_string)\n",
    "p"
   ]
  },
  {
   "cell_type": "code",
   "execution_count": 262,
   "id": "4e297868-bca4-49a7-a017-0e65e9deb5df",
   "metadata": {},
   "outputs": [],
   "source": [
    "def rectify(mask_pairs):\n",
    "    max_ind = 1\n",
    "    names = []\n",
    "\n",
    "    # repeat this procedure to connect up first and last names\n",
    "    for _ in range(2):\n",
    "        \n",
    "        for i in range(len(mask_pairs)):\n",
    "            \n",
    "            mask, content = mask_pairs[i]\n",
    "            cur_type = mask_type(mask)\n",
    "    \n",
    "            if cur_type == 'dob': continue\n",
    "    \n",
    "            should_add = 1\n",
    "    \n",
    "            for name in names:\n",
    "                if name.is_same(content, cur_type) > 0:\n",
    "                    new_mask = change_index(mask, name.index)\n",
    "                    mask_pairs[i] = (new_mask, content)\n",
    "                    name.fill(content, cur_type)\n",
    "                    should_add = 0\n",
    "                    break\n",
    "                \n",
    "            if should_add == 1:\n",
    "                new_name = Name()\n",
    "                new_name.fill(content, cur_type)\n",
    "                new_name.index = max_ind\n",
    "                max_ind += 1\n",
    "                names.append(new_name)\n",
    "                \n",
    "    return mask_pairs"
   ]
  },
  {
   "cell_type": "code",
   "execution_count": 263,
   "id": "619c862d-a25e-4f38-8585-bb201c88d98d",
   "metadata": {},
   "outputs": [
    {
     "name": "stdout",
     "output_type": "stream",
     "text": [
      "jerry cain Ethan Wang\n",
      "0 0\n",
      "False False\n",
      "SAME\n",
      "ethan wang Ethan Wang\n",
      "1 1\n",
      "False False\n",
      "SAME\n",
      "jerry cain Ethan Wang\n",
      "0 0\n",
      "False False\n",
      "jerry cain Jerry Cain\n",
      "1 1\n",
      "False False\n",
      "SAME\n",
      "SAME\n"
     ]
    },
    {
     "data": {
      "text/plain": [
       "[('[[FULL_NAME_1]]', 'Ethan Wang'),\n",
       " ('[[FULL_NAME_2]]', 'Jerry Cain'),\n",
       " ('[[LAST_NAME_1]]', 'Wang'),\n",
       " ('[[DOB]]', 'July 12, 1996')]"
      ]
     },
     "execution_count": 263,
     "metadata": {},
     "output_type": "execute_result"
    }
   ],
   "source": [
    "rectify(p)"
   ]
  },
  {
   "cell_type": "code",
   "execution_count": 264,
   "id": "2e2c92ac-442f-47d1-9f2e-00052ab18d0f",
   "metadata": {},
   "outputs": [],
   "source": [
    "import pandas as pd\n",
    "\n",
    "df = pd.read_csv('even_more_labels.csv')"
   ]
  },
  {
   "cell_type": "code",
   "execution_count": 265,
   "id": "d0262761-66c8-494d-bb42-0f96545957e5",
   "metadata": {},
   "outputs": [],
   "source": [
    "input, masked = df.iloc[5100].Unmasked, df.iloc[5100].Masked"
   ]
  },
  {
   "cell_type": "code",
   "execution_count": 266,
   "id": "10e01525-0a7e-41ca-bcb0-242f3bbbf399",
   "metadata": {},
   "outputs": [],
   "source": [
    "masked = \"[[FIRST_NAME_1]], [[FIRST_NAME_2]] and the girls, [[FIRST_NAME_1]] [[FIRST_NAME_2]] was his name, [[FIRST_NAME_1]] born -- [[DOB]], and [[FULL_NAME_2]] ([[DOB]]). [[LAST_NAME_2]] and Mr. [[LAST_NAME_2]] the baker. [[LAST_NAME_2]] was not related to [[FULL_NAME_2]]\"\n",
    "input = 'Charlie, Marnie and the girls, Charlie Byun was his name, Byun born -- 12/21/2002, and Marnie Martindale (June 22, 1995). Martindale and Mr. Godfried the baker.  Godfried was not related to Marnie Martindale'"
   ]
  },
  {
   "cell_type": "code",
   "execution_count": 267,
   "id": "a0c867d9-bc00-4d45-8dd8-4c633ce9f11c",
   "metadata": {},
   "outputs": [
    {
     "data": {
      "text/plain": [
       "'Charlie, Marnie and the girls, Charlie Byun was his name, Byun born -- 12/21/2002, and Marnie Martindale (June 22, 1995). Martindale and Mr. Godfried the baker.  Godfried was not related to Marnie Martindale'"
      ]
     },
     "execution_count": 267,
     "metadata": {},
     "output_type": "execute_result"
    }
   ],
   "source": [
    "input"
   ]
  },
  {
   "cell_type": "code",
   "execution_count": 268,
   "id": "a3d4f3f9-c360-4a6b-8674-2fafc43031d4",
   "metadata": {},
   "outputs": [
    {
     "data": {
      "text/plain": [
       "'[[FIRST_NAME_1]], [[FIRST_NAME_2]] and the girls, [[FIRST_NAME_1]] [[FIRST_NAME_2]] was his name, [[FIRST_NAME_1]] born -- [[DOB]], and [[FULL_NAME_2]] ([[DOB]]). [[LAST_NAME_2]] and Mr. [[LAST_NAME_2]] the baker. [[LAST_NAME_2]] was not related to [[FULL_NAME_2]]'"
      ]
     },
     "execution_count": 268,
     "metadata": {},
     "output_type": "execute_result"
    }
   ],
   "source": [
    "masked"
   ]
  },
  {
   "cell_type": "code",
   "execution_count": 269,
   "id": "b96d663a-44a7-4a06-b38e-7a019f43961a",
   "metadata": {},
   "outputs": [
    {
     "data": {
      "text/plain": [
       "[('[[FIRST_NAME_1]]', 'Charlie'),\n",
       " ('[[FIRST_NAME_2]]', 'Marnie'),\n",
       " ('[[FIRST_NAME_1]]', 'Charlie'),\n",
       " ('[[FIRST_NAME_2]]', 'Byun'),\n",
       " ('[[FIRST_NAME_1]]', 'Byun'),\n",
       " ('[[DOB]]', '12/21/2002'),\n",
       " ('[[FULL_NAME_2]]', 'Marnie Martindale'),\n",
       " ('[[DOB]]', 'June 22, 1995'),\n",
       " ('[[LAST_NAME_2]]', 'Martindale'),\n",
       " ('[[LAST_NAME_2]]', 'Godfried'),\n",
       " ('[[LAST_NAME_2]]', ' Godfried'),\n",
       " ('[[FULL_NAME_2]]', 'Marnie Martindale')]"
      ]
     },
     "execution_count": 269,
     "metadata": {},
     "output_type": "execute_result"
    }
   ],
   "source": [
    "p = ex.extract_masked_info(input, masked)\n",
    "p"
   ]
  },
  {
   "cell_type": "code",
   "execution_count": 270,
   "id": "6337d4eb-f31f-4277-b2d8-a475deb3c32d",
   "metadata": {},
   "outputs": [
    {
     "name": "stdout",
     "output_type": "stream",
     "text": [
      "SAME\n",
      "SAME\n",
      "marnie martindale Charlie None\n",
      "0 0\n",
      "False False\n",
      "marnie martindale Marnie None\n",
      "1 0\n",
      "False False\n",
      "SAME\n",
      "SAME\n",
      "SAME\n",
      "marnie martindale Charlie None\n",
      "0 0\n",
      "False False\n",
      "marnie martindale Marnie Martindale\n",
      "1 1\n",
      "False False\n",
      "SAME\n",
      "SAME\n",
      "SAME\n",
      "SAME\n",
      "SAME\n",
      "SAME\n",
      "marnie martindale Charlie None\n",
      "0 0\n",
      "False False\n",
      "marnie martindale Marnie Martindale\n",
      "1 1\n",
      "False False\n",
      "SAME\n",
      "SAME\n",
      "SAME\n",
      "SAME\n",
      "marnie martindale Charlie None\n",
      "0 0\n",
      "False False\n",
      "marnie martindale Marnie Martindale\n",
      "1 1\n",
      "False False\n",
      "SAME\n"
     ]
    },
    {
     "data": {
      "text/plain": [
       "[('[[FIRST_NAME_1]]', 'Charlie'),\n",
       " ('[[FIRST_NAME_2]]', 'Marnie'),\n",
       " ('[[FIRST_NAME_1]]', 'Charlie'),\n",
       " ('[[FIRST_NAME_3]]', 'Byun'),\n",
       " ('[[FIRST_NAME_3]]', 'Byun'),\n",
       " ('[[DOB]]', '12/21/2002'),\n",
       " ('[[FULL_NAME_2]]', 'Marnie Martindale'),\n",
       " ('[[DOB]]', 'June 22, 1995'),\n",
       " ('[[LAST_NAME_2]]', 'Martindale'),\n",
       " ('[[LAST_NAME_4]]', 'Godfried'),\n",
       " ('[[LAST_NAME_4]]', ' Godfried'),\n",
       " ('[[FULL_NAME_2]]', 'Marnie Martindale')]"
      ]
     },
     "execution_count": 270,
     "metadata": {},
     "output_type": "execute_result"
    }
   ],
   "source": [
    "p = rectify(p)\n",
    "p"
   ]
  },
  {
   "cell_type": "code",
   "execution_count": 271,
   "id": "7bfe62cf-3960-4770-91bc-c02f10119bb0",
   "metadata": {},
   "outputs": [
    {
     "name": "stdout",
     "output_type": "stream",
     "text": [
      "SAME\n",
      "SAME\n",
      "marnie martindale Charlie None\n",
      "0 0\n",
      "False False\n",
      "marnie martindale Marnie None\n",
      "1 0\n",
      "False False\n",
      "SAME\n",
      "SAME\n",
      "SAME\n",
      "marnie martindale Charlie None\n",
      "0 0\n",
      "False False\n",
      "marnie martindale Marnie Martindale\n",
      "1 1\n",
      "False False\n",
      "SAME\n",
      "SAME\n",
      "SAME\n",
      "SAME\n",
      "SAME\n",
      "SAME\n",
      "marnie martindale Charlie None\n",
      "0 0\n",
      "False False\n",
      "marnie martindale Marnie Martindale\n",
      "1 1\n",
      "False False\n",
      "SAME\n",
      "SAME\n",
      "SAME\n",
      "SAME\n",
      "marnie martindale Charlie None\n",
      "0 0\n",
      "False False\n",
      "marnie martindale Marnie Martindale\n",
      "1 1\n",
      "False False\n",
      "SAME\n"
     ]
    },
    {
     "data": {
      "text/plain": [
       "True"
      ]
     },
     "execution_count": 271,
     "metadata": {},
     "output_type": "execute_result"
    }
   ],
   "source": [
    "p = ex.extract_masked_info(input, masked)\n",
    "p = rectify(p)\n",
    "replacements = [pair[0] for pair in p]\n",
    "masked = ex.replace_masks(masked, replacements)\n",
    "r = ex.recover(masked, p)\n",
    "r == input"
   ]
  },
  {
   "cell_type": "code",
   "execution_count": 22,
   "id": "4dc91b0e-70d2-4364-9971-a61e743327d7",
   "metadata": {},
   "outputs": [
    {
     "data": {
      "text/plain": [
       "[('[[FIRST_NAME_1]]', 'Charlie'),\n",
       " ('[[FIRST_NAME_2]]', 'Marnie'),\n",
       " ('[[FIRST_NAME_1]]', 'Charlie'),\n",
       " ('[[FIRST_NAME_3]]', 'Byun'),\n",
       " ('[[FIRST_NAME_3]]', 'Byun'),\n",
       " ('[[DOB]]', '12/21/2002'),\n",
       " ('[[FULL_NAME_4]]', 'Marnie Martindale'),\n",
       " ('[[DOB]]', 'June 22, 1995'),\n",
       " ('[[LAST_NAME_4]]', 'Martindale'),\n",
       " ('[[LAST_NAME_5]]', 'Godfried'),\n",
       " ('[[LAST_NAME_5]]', ' Godfried'),\n",
       " ('[[FULL_NAME_4]]', 'Marnie Martindale')]"
      ]
     },
     "execution_count": 22,
     "metadata": {},
     "output_type": "execute_result"
    }
   ],
   "source": [
    "p"
   ]
  },
  {
   "cell_type": "code",
   "execution_count": 18,
   "id": "30eb2128-2315-408d-a794-1dd76baf7c55",
   "metadata": {},
   "outputs": [
    {
     "data": {
      "text/plain": [
       "[('[[FIRST_NAME_1]]', 'Charlie'),\n",
       " ('[[FIRST_NAME_2]]', 'Marnie'),\n",
       " ('[[FIRST_NAME_1]]', 'Charlie'),\n",
       " ('[[FIRST_NAME_2]]', 'Byun'),\n",
       " ('[[FIRST_NAME_1]]', 'Byun'),\n",
       " ('[[DOB]]', '12/21/2002'),\n",
       " ('[[FULL_NAME_2]]', 'Marnie Martindale'),\n",
       " ('[[DOB]]', 'June 22, 1995'),\n",
       " ('[[LAST_NAME_2]]', 'Martindale'),\n",
       " ('[[LAST_NAME_2]]', 'Godfried'),\n",
       " ('[[LAST_NAME_2]]', ' Godfried'),\n",
       " ('[[FULL_NAME_2]]', 'Marnie Martindale')]"
      ]
     },
     "execution_count": 18,
     "metadata": {},
     "output_type": "execute_result"
    }
   ],
   "source": [
    "p = ex.extract_masked_info(input, masked)\n",
    "p"
   ]
  },
  {
   "cell_type": "code",
   "execution_count": 19,
   "id": "bd7f0090-9b0a-44ab-bb77-b9517ce65790",
   "metadata": {},
   "outputs": [
    {
     "data": {
      "text/plain": [
       "[('[[FIRST_NAME_1]]', 'Charlie'),\n",
       " ('[[FIRST_NAME_2]]', 'Marnie'),\n",
       " ('[[FIRST_NAME_1]]', 'Charlie'),\n",
       " ('[[FIRST_NAME_3]]', 'Byun'),\n",
       " ('[[FIRST_NAME_3]]', 'Byun'),\n",
       " ('[[DOB]]', '12/21/2002'),\n",
       " ('[[FULL_NAME_4]]', 'Marnie Martindale'),\n",
       " ('[[DOB]]', 'June 22, 1995'),\n",
       " ('[[LAST_NAME_4]]', 'Martindale'),\n",
       " ('[[LAST_NAME_5]]', 'Godfried'),\n",
       " ('[[LAST_NAME_5]]', ' Godfried'),\n",
       " ('[[FULL_NAME_4]]', 'Marnie Martindale')]"
      ]
     },
     "execution_count": 19,
     "metadata": {},
     "output_type": "execute_result"
    }
   ],
   "source": [
    "rectify(p)"
   ]
  },
  {
   "cell_type": "code",
   "execution_count": null,
   "id": "d67b1940-ec19-490d-92b9-c90e6ad6cc10",
   "metadata": {},
   "outputs": [],
   "source": []
  }
 ],
 "metadata": {
  "kernelspec": {
   "display_name": "python3.10.10",
   "language": "python",
   "name": "python3.10.10"
  },
  "language_info": {
   "codemirror_mode": {
    "name": "ipython",
    "version": 3
   },
   "file_extension": ".py",
   "mimetype": "text/x-python",
   "name": "python",
   "nbconvert_exporter": "python",
   "pygments_lexer": "ipython3",
   "version": "3.10.10"
  }
 },
 "nbformat": 4,
 "nbformat_minor": 5
}
