{
 "cells": [
  {
   "cell_type": "code",
   "execution_count": 304,
   "id": "8f7af066-2596-4fb7-8ba9-dfc4952a9b89",
   "metadata": {},
   "outputs": [],
   "source": [
    "import names\n",
    "import pandas as pd\n",
    "import random as rand"
   ]
  },
  {
   "cell_type": "code",
   "execution_count": 429,
   "id": "4cdfe188-ed4b-43a3-bf30-03400ad37876",
   "metadata": {},
   "outputs": [],
   "source": [
    "dobs, firsts, lasts, middles = names.dobs(), names.first_names(), names.last_names(), names.middle_names()"
   ]
  },
  {
   "cell_type": "code",
   "execution_count": 430,
   "id": "19d5fbbf-08a0-4111-a31d-c89b314f714f",
   "metadata": {},
   "outputs": [],
   "source": [
    "firsts, lasts, middles = names.first_names(), names.last_names(), names.middle_names()"
   ]
  },
  {
   "cell_type": "code",
   "execution_count": null,
   "id": "333b9df2-97ae-40f0-81a3-b85e8d527c0d",
   "metadata": {},
   "outputs": [],
   "source": []
  },
  {
   "cell_type": "code",
   "execution_count": 306,
   "id": "9fbef1bf-3f19-42d8-b293-03d35046ffb0",
   "metadata": {},
   "outputs": [
    {
     "data": {
      "text/plain": [
       "(270, 572, 545, 509)"
      ]
     },
     "execution_count": 306,
     "metadata": {},
     "output_type": "execute_result"
    }
   ],
   "source": [
    "len(dobs), len(firsts), len(lasts), len(middles)"
   ]
  },
  {
   "cell_type": "code",
   "execution_count": 307,
   "id": "5a79c2d4-6753-46d9-a1ce-6a721c95448b",
   "metadata": {},
   "outputs": [],
   "source": [
    "texts = pd.read_csv('data_amazon.xlsx - Sheet1.csv')\n",
    "texts = texts.Review.values.tolist()"
   ]
  },
  {
   "cell_type": "code",
   "execution_count": 308,
   "id": "6b2b4431-53ca-4b4e-82f6-36f826e8029a",
   "metadata": {},
   "outputs": [],
   "source": [
    "adverse_spans = names.distractor_spans()"
   ]
  },
  {
   "cell_type": "code",
   "execution_count": 406,
   "id": "5fdfd47d-a5e5-4eb9-8e26-d62a792e0436",
   "metadata": {},
   "outputs": [],
   "source": [
    "def sample_and_remove(input_list, n):\n",
    "    if n > len(input_list):\n",
    "        return None  # Cannot sample more items than the list has.\n",
    "\n",
    "    sampled_items = rand.sample(input_list, n)\n",
    "    \n",
    "    for item in sampled_items:\n",
    "        input_list.remove(item)\n",
    "    \n",
    "    return sampled_items\n",
    "\n",
    "def initials(name_tuple):\n",
    "    joiners = ['',' ','.','-']\n",
    "    join_char = rand.choice(joiners)\n",
    "    letters = [name[0] for name in name_tuple]\n",
    "    return join_char.join(letters) + join_char\n",
    "\n",
    "def partial_initials(name_tuple):\n",
    "    joiners = ['',' ','.','-']\n",
    "    join_char = rand.choice(joiners)\n",
    "    letters = [rand.choice([name[0],name]) for name in name_tuple]\n",
    "    return join_char.join(letters)  + join_char\n",
    "    \n",
    "\n",
    "def random_mask_token(name, index, dob = None):\n",
    "    ind_char = None\n",
    "    content, mask = None, None \n",
    "    titles = ['Mrs.', 'Mr.', 'Ms.', 'Mx.', 'Dr.', 'Rvd.', 'Mrs', 'Mr', 'Mx', 'Miss', 'MR', 'MRS', 'MR.', 'dr']\n",
    "    \n",
    "    if index > 3:\n",
    "        ind_char = 'X'\n",
    "    else:\n",
    "        ind_char = str(index)\n",
    "\n",
    "    if rand.random() > 0.6:\n",
    "        mask = '[[' + 'FULL_NAME_' + ind_char + ']]'\n",
    "        \n",
    "        if rand.random() > 0.85:\n",
    "            if rand.random() > 0.55:\n",
    "                content = initials(name)\n",
    "            else:\n",
    "                content = partial_initials(name)\n",
    "                \n",
    "        else:\n",
    "            content = ' '.join(name)\n",
    "\n",
    "    else:\n",
    "        \n",
    "        if rand.random() > 0.5:\n",
    "            mask = '[[' + 'FIRST_NAME_' + ind_char + ']]'\n",
    "            content = name[0]\n",
    "\n",
    "        else:\n",
    "            mask = '[[' + 'LAST_NAME_' + ind_char + ']]'\n",
    "            content = name[1]\n",
    "\n",
    "            if rand.random() > 0.9:\n",
    "                title = rand.choice(titles) + ' '\n",
    "                mask = title + mask\n",
    "                content = title + content\n",
    "\n",
    "    #stochastically add in DOBS for masking\n",
    "    if dob != None:\n",
    "        encasings = [('(', ') '), (' - ', ' - '), (' dob ', ''), (' DOB: ', ''), (', ', ', '), (' — ', ' — '), ('B: ', '')]\n",
    "        if rand.random() > 0.5:\n",
    "            casing = rand.choice(encasings)\n",
    "            d_content = casing[0] + dob + casing[1]\n",
    "            d_mask = casing[0] + '[[DOB]]' + casing[1]\n",
    "        else:\n",
    "            d_content = ' ' + dob\n",
    "            d_mask =  ' ' + '[[DOB]]'\n",
    "        mask += d_mask\n",
    "        content += d_content\n",
    "        \n",
    "\n",
    "    return content, mask"
   ]
  },
  {
   "cell_type": "code",
   "execution_count": 407,
   "id": "fee46434-e862-40d2-b2a6-8a7d2dd4f45f",
   "metadata": {},
   "outputs": [],
   "source": [
    "def generate_example(t,names,l, dobs = None):\n",
    "    not_masked, masked = \"\", \"\"\n",
    "    punct = [',','.', ')', '!', '?', ':', ';']\n",
    "    tokens = t.split(' ')\n",
    "    names_so_far, name_indices = [], dict()\n",
    "    p1 = 0.5\n",
    "    \n",
    "    for i in range(l):\n",
    "        if len(tokens) < 2:\n",
    "            return (not_masked, masked)\n",
    "            \n",
    "        if rand.random() < p1:\n",
    "            cur_tok = tokens.pop()\n",
    "\n",
    "            if rand.random() > 0.3:\n",
    "                cur_tok = cur_tok.capitalize()\n",
    "            elif rand.random() > 0.1:\n",
    "                cur_tok = cur_tok.upper()\n",
    "            \n",
    "            not_masked += cur_tok + ' '\n",
    "            masked += cur_tok + ' '\n",
    "            \n",
    "        else:\n",
    "            cur_name = rand.choice(names)\n",
    "            index = None\n",
    "            \n",
    "            if cur_name in names_so_far:\n",
    "                index = name_indices[cur_name]\n",
    "            else:\n",
    "                names_so_far.append(cur_name)\n",
    "                index = len(names_so_far)\n",
    "                name_indices[cur_name] = index\n",
    "\n",
    "            if rand.random() > 0.9:\n",
    "                dob = sample_and_remove(dobs,1)[0]\n",
    "                name, mask_tok = random_mask_token(cur_name, index, dob)\n",
    "\n",
    "            else:\n",
    "                name, mask_tok = random_mask_token(cur_name, index)\n",
    "\n",
    "            if rand.random() > 0.4:\n",
    "                name = name.lower()\n",
    "            elif rand.random() > 0.3:\n",
    "                name = name.upper()\n",
    "                \n",
    "            not_masked += name\n",
    "            masked += mask_tok\n",
    "            if rand.random() > 0.3:\n",
    "                not_masked += ' '\n",
    "                masked += ' '\n",
    "            if rand.random() > 0.6:\n",
    "                cur_punct = rand.choice(punct)\n",
    "                not_masked += cur_punct\n",
    "                masked += cur_punct\n",
    "                \n",
    "\n",
    "    return not_masked, masked\n",
    "\n",
    "            \n",
    "    \n",
    "    \n",
    "    "
   ]
  },
  {
   "cell_type": "code",
   "execution_count": 408,
   "id": "e1aadc38-e851-4a1b-9b43-08f5e36ed0c5",
   "metadata": {},
   "outputs": [],
   "source": [
    "texts = [t for t in texts if isinstance(t, str)]\n",
    "texts = [t for t in texts if len(t) >= 300]"
   ]
  },
  {
   "cell_type": "code",
   "execution_count": 409,
   "id": "5dbd45e3-0ad3-4823-ac8b-a01d75f5f9b6",
   "metadata": {},
   "outputs": [],
   "source": [
    "longer_texts = []\n",
    "for i in range(0, len(texts) - 1, 2):\n",
    "    concatenated_string = texts[i] + ' ' + texts[i + 1]\n",
    "    longer_texts.append(concatenated_string)\n",
    "\n",
    "texts = longer_texts"
   ]
  },
  {
   "cell_type": "code",
   "execution_count": 410,
   "id": "6c45a1de-856f-434b-a65d-8b5a2d0500f2",
   "metadata": {},
   "outputs": [
    {
     "data": {
      "text/plain": [
       "1176"
      ]
     },
     "execution_count": 410,
     "metadata": {},
     "output_type": "execute_result"
    }
   ],
   "source": [
    "len(texts)"
   ]
  },
  {
   "cell_type": "code",
   "execution_count": 424,
   "id": "0e63b406-74e4-4aa5-8c54-f599302e915b",
   "metadata": {},
   "outputs": [
    {
     "data": {
      "text/plain": [
       "(181, 342)"
      ]
     },
     "execution_count": 424,
     "metadata": {},
     "output_type": "execute_result"
    }
   ],
   "source": [
    "len(firsts), len(masked)"
   ]
  },
  {
   "cell_type": "code",
   "execution_count": 433,
   "id": "4fb66ae5-6863-47f1-bd1f-fd6092000507",
   "metadata": {},
   "outputs": [
    {
     "ename": "TypeError",
     "evalue": "'NoneType' object is not subscriptable",
     "output_type": "error",
     "traceback": [
      "\u001b[0;31m---------------------------------------------------------------------------\u001b[0m",
      "\u001b[0;31mTypeError\u001b[0m                                 Traceback (most recent call last)",
      "Input \u001b[0;32mIn [433]\u001b[0m, in \u001b[0;36m<module>\u001b[0;34m\u001b[0m\n\u001b[1;32m      4\u001b[0m first_names \u001b[38;5;241m=\u001b[39m sample_and_remove(firsts, num_names)\n\u001b[1;32m      5\u001b[0m last_names \u001b[38;5;241m=\u001b[39m sample_and_remove(lasts, num_names)\n\u001b[0;32m----> 6\u001b[0m cur_names \u001b[38;5;241m=\u001b[39m [(first_names[i], last_names[i]) \u001b[38;5;28;01mfor\u001b[39;00m i \u001b[38;5;129;01min\u001b[39;00m \u001b[38;5;28mrange\u001b[39m(num_names)]\n\u001b[1;32m      7\u001b[0m text \u001b[38;5;241m=\u001b[39m sample_and_remove(texts, \u001b[38;5;241m1\u001b[39m)[\u001b[38;5;241m0\u001b[39m]\n\u001b[1;32m      8\u001b[0m span, masked_span \u001b[38;5;241m=\u001b[39m generate_example(text, cur_names, \u001b[38;5;241m10\u001b[39m, dobs\u001b[38;5;241m=\u001b[39mdobs)\n",
      "Input \u001b[0;32mIn [433]\u001b[0m, in \u001b[0;36m<listcomp>\u001b[0;34m(.0)\u001b[0m\n\u001b[1;32m      4\u001b[0m first_names \u001b[38;5;241m=\u001b[39m sample_and_remove(firsts, num_names)\n\u001b[1;32m      5\u001b[0m last_names \u001b[38;5;241m=\u001b[39m sample_and_remove(lasts, num_names)\n\u001b[0;32m----> 6\u001b[0m cur_names \u001b[38;5;241m=\u001b[39m [(first_names[i], \u001b[43mlast_names\u001b[49m\u001b[43m[\u001b[49m\u001b[43mi\u001b[49m\u001b[43m]\u001b[49m) \u001b[38;5;28;01mfor\u001b[39;00m i \u001b[38;5;129;01min\u001b[39;00m \u001b[38;5;28mrange\u001b[39m(num_names)]\n\u001b[1;32m      7\u001b[0m text \u001b[38;5;241m=\u001b[39m sample_and_remove(texts, \u001b[38;5;241m1\u001b[39m)[\u001b[38;5;241m0\u001b[39m]\n\u001b[1;32m      8\u001b[0m span, masked_span \u001b[38;5;241m=\u001b[39m generate_example(text, cur_names, \u001b[38;5;241m10\u001b[39m, dobs\u001b[38;5;241m=\u001b[39mdobs)\n",
      "\u001b[0;31mTypeError\u001b[0m: 'NoneType' object is not subscriptable"
     ]
    }
   ],
   "source": [
    "#unmasked, masked = [],[]\n",
    "for i in range(50):\n",
    "    num_names = rand.randint(3,7)\n",
    "    first_names = sample_and_remove(firsts, num_names)\n",
    "    last_names = sample_and_remove(lasts, num_names)\n",
    "    cur_names = [(first_names[i], last_names[i]) for i in range(num_names)]\n",
    "    text = sample_and_remove(texts, 1)[0]\n",
    "    span, masked_span = generate_example(text, cur_names, 10, dobs=dobs)\n",
    "    unmasked.append(span)\n",
    "    masked.append(masked_span)\n",
    "    "
   ]
  },
  {
   "cell_type": "code",
   "execution_count": 346,
   "id": "edf39ed7-e4dd-43ef-84f1-e3454e0ffd2d",
   "metadata": {},
   "outputs": [
    {
     "ename": "IndexError",
     "evalue": "list index out of range",
     "output_type": "error",
     "traceback": [
      "\u001b[0;31m---------------------------------------------------------------------------\u001b[0m",
      "\u001b[0;31mIndexError\u001b[0m                                Traceback (most recent call last)",
      "Input \u001b[0;32mIn [346]\u001b[0m, in \u001b[0;36m<module>\u001b[0;34m\u001b[0m\n\u001b[0;32m----> 1\u001b[0m \u001b[43munmasked\u001b[49m\u001b[43m[\u001b[49m\u001b[38;5;241;43m450\u001b[39;49m\u001b[43m]\u001b[49m\n",
      "\u001b[0;31mIndexError\u001b[0m: list index out of range"
     ]
    }
   ],
   "source": [
    "unmasked[450]"
   ]
  },
  {
   "cell_type": "code",
   "execution_count": 434,
   "id": "9a0e6853-c5d8-4963-b679-55f02adf5256",
   "metadata": {},
   "outputs": [],
   "source": [
    "df = pd.read_csv('even_more_labels.csv')"
   ]
  },
  {
   "cell_type": "code",
   "execution_count": 435,
   "id": "3cf096dd-6aca-4274-88ab-6f9b2e626acb",
   "metadata": {},
   "outputs": [
    {
     "data": {
      "text/plain": [
       "Index(['Unmasked', 'Masked'], dtype='object')"
      ]
     },
     "execution_count": 435,
     "metadata": {},
     "output_type": "execute_result"
    }
   ],
   "source": [
    "df.columns"
   ]
  },
  {
   "cell_type": "code",
   "execution_count": 436,
   "id": "d1cda7fc-4e0f-4dfc-9ce6-1e9da891ab0d",
   "metadata": {},
   "outputs": [],
   "source": [
    "new_data = {'Unmasked': unmasked, 'Masked': masked}\n",
    "new_data= pd.DataFrame(new_data)"
   ]
  },
  {
   "cell_type": "code",
   "execution_count": 437,
   "id": "90d3e81b-5a84-4cd6-9cfb-dae367c958b3",
   "metadata": {},
   "outputs": [],
   "source": [
    "updated_df = pd.concat([df, new_data], ignore_index=True)"
   ]
  },
  {
   "cell_type": "code",
   "execution_count": 438,
   "id": "a39821b4-8c1d-4a36-81a2-19bb64f8a1f1",
   "metadata": {},
   "outputs": [],
   "source": [
    "updated_df.to_csv('even_more_labels.csv', index=False)"
   ]
  },
  {
   "cell_type": "code",
   "execution_count": null,
   "id": "d3bf258b-cb01-4895-9faf-a7479d390cfa",
   "metadata": {},
   "outputs": [],
   "source": []
  },
  {
   "cell_type": "code",
   "execution_count": null,
   "id": "23ee99f1-2dc9-4c56-af5e-0cabbc83ef7e",
   "metadata": {},
   "outputs": [],
   "source": []
  }
 ],
 "metadata": {
  "kernelspec": {
   "display_name": "Python 3 (ipykernel)",
   "language": "python",
   "name": "python3"
  },
  "language_info": {
   "codemirror_mode": {
    "name": "ipython",
    "version": 3
   },
   "file_extension": ".py",
   "mimetype": "text/x-python",
   "name": "python",
   "nbconvert_exporter": "python",
   "pygments_lexer": "ipython3",
   "version": "3.9.5"
  }
 },
 "nbformat": 4,
 "nbformat_minor": 5
}
