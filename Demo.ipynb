{
 "cells": [
  {
   "cell_type": "code",
   "execution_count": 11,
   "id": "9c03a559-81f1-4f11-97c2-7e2c07177a41",
   "metadata": {},
   "outputs": [],
   "source": [
    "#packages\n",
    "import torch\n",
    "import numpy as np\n",
    "import pandas as pd\n",
    "from transformers import AutoTokenizer, T5Config, T5ForConditionalGeneration\n",
    "from torch import nn\n",
    "\n",
    "#local utilities\n",
    "import extraction as ex\n",
    "import indexing\n",
    "import t5mod\n",
    "import utils\n",
    "from samples import text_samples"
   ]
  },
  {
   "cell_type": "code",
   "execution_count": 12,
   "id": "63493a12-0b52-4e37-95f5-6483791544c4",
   "metadata": {},
   "outputs": [],
   "source": [
    "model, tokenizer = t5mod.get_model('model/t5mask_improved_2.pt', 'model/t5_config.json')"
   ]
  },
  {
   "cell_type": "code",
   "execution_count": 13,
   "id": "1813d3f1-d06c-4615-bad6-65536b085542",
   "metadata": {},
   "outputs": [],
   "source": [
    "def fix_masks(unmasked, masked):\n",
    "    p = ex.extract_masked_info(unmasked, masked)\n",
    "    try:\n",
    "        p = indexing.rectify(p)\n",
    "        replacements = [pair[0] for pair in p]\n",
    "        masked = ex.replace_masks(masked, replacements)\n",
    "    except:\n",
    "        print('Exception Occured')\n",
    "    return masked, p\n",
    "\n",
    "def mask(unmasked, model, tokenizer):\n",
    "    first_mask = t5mod.infer(model, tokenizer, unmasked)\n",
    "    cur_mask = utils.correct_corrupted(unmasked, first_mask)\n",
    "    final_text, masks = fix_masks(unmasked, cur_mask)\n",
    "    return final_text, masks\n",
    "    "
   ]
  },
  {
   "cell_type": "code",
   "execution_count": 14,
   "id": "5d6b9084-c206-48bc-b681-d958bd5e3443",
   "metadata": {},
   "outputs": [],
   "source": [
    "texts = text_samples()"
   ]
  },
  {
   "cell_type": "code",
   "execution_count": 39,
   "id": "bc675d24-2a7b-4552-9a5f-31a7d477063c",
   "metadata": {},
   "outputs": [
    {
     "data": {
      "text/plain": [
       "'Oscar-Claude Monet ; (14 November 1840 – 5 December 1926) was a French painter and founder of impressionist painting who is seen as a key precursor to modernism, especially in his attempts to paint nature as he perceived it.(1) During his long career, he was the most consistent and prolific practitioner of impressionism\\'s philosophy of expressing one\\'s perceptions before nature, especially as applied to plein air (outdoor) landscape painting.(2) The term \"Impressionism\" is derived from the title of his painting Impression, soleil levant, exhibited in 1874 (the \"exhibition of rejects\") initiated by Monet and his associates as an alternative to the Salon. Monet was raised in Le Havre, Normandy, and became interested in the outdoors and drawing from an early age. Although his mother, Louise-Justine Aubrée Monet, supported his ambitions to be a painter, his father, Claude-Adolphe, disapproved and wanted him to pursue a career in business. He was very close to his mother, but she died in January 1857 when he was sixteen years old, and he was sent to live with his childless, widowed but wealthy aunt, Marie-Jeanne Lecadre. He went on to study at the Académie Suisse, and under the academic history painter Charles Gleyre, where he was a classmate of Auguste Renoir. His early works include landscapes, seascapes, and portraits, but attracted little attention. A key early influence was Eugène Boudin who introduced him to the concept of plein air painting. From 1883, Monet lived in Giverny, also in northern France, where he purchased a house and property and began a vast landscaping project, including a water-lily pond.'"
      ]
     },
     "execution_count": 39,
     "metadata": {},
     "output_type": "execute_result"
    }
   ],
   "source": [
    "cur_text = texts[3]\n",
    "cur_text"
   ]
  },
  {
   "cell_type": "code",
   "execution_count": 21,
   "id": "cb22d4dc-8445-4580-94df-c1563a97e691",
   "metadata": {},
   "outputs": [],
   "source": [
    "#cur_text = \"Aizada Marat is originally from Kyrgyzstan. Ms. Marat currently lives in California.\""
   ]
  },
  {
   "cell_type": "code",
   "execution_count": 40,
   "id": "e0aab37d-53c1-4228-b152-2b4ef004534b",
   "metadata": {},
   "outputs": [],
   "source": [
    "span, pairs = mask(cur_text, model, tokenizer)"
   ]
  },
  {
   "cell_type": "code",
   "execution_count": 41,
   "id": "0e6a9f70-7b0d-4a51-86c7-df06a57654f6",
   "metadata": {},
   "outputs": [
    {
     "data": {
      "text/plain": [
       "'[[FULL_NAME_1]] ; ([[DOB]] – [[DOB]]) was a French painter and founder of impressionist painting who is seen as a key precursor to modernism, especially in his attempts to paint nature as he perceived it.(1) During his long career, he was the most consistent and prolific practitioner of impressionism\\'s philosophy of expressing one\\'s perceptions before nature, especially as applied to plein air (outdoor) landscape painting.(2) The term \"Impressionism\" is derived from the title of his painting Impression, [[FULL_NAME_2]], exhibited in [[DOB]] (the \"exhibition of rejects\") initiated by [[FIRST_NAME_3]] and his associates as an alternative to the Salon. [[FIRST_NAME_3]] was raised in [[FULL_NAME_4]], Normandy, and became interested in the outdoors and drawing from an early age. Although his mother,[[FULL_NAME_5]], supported his ambitions to be a painter, his father, [[FULL_NAME_6]], disapproved and wanted him to pursue a career in business. He was very close to his mother, but she died in [[DOB]] when he was sixteen years old, and he was sent to live with his childless, widowed but wealthy aunt, [[FULL_NAME_7]]. He went on to study at the Académie Suisse, and under the academic history painter [[FULL_NAME_8]], where he was a classmate of [[FULL_NAME_9]]. His early works include landscapes, seascapes, and portraits, but attracted little attention. A key early influence was [[FULL_NAME_10]] who introduced him to the concept of plein air painting. From 1883, [[FIRST_NAME_3]] lived in [[FIRST_NAME_11]], also in northern France, where he purchased a house and property and began a vast landscaping project, including a water-lily pond.'"
      ]
     },
     "execution_count": 41,
     "metadata": {},
     "output_type": "execute_result"
    }
   ],
   "source": [
    "span"
   ]
  },
  {
   "cell_type": "code",
   "execution_count": 42,
   "id": "ca25fd7e-906b-4312-aa94-113027cf2822",
   "metadata": {},
   "outputs": [
    {
     "data": {
      "text/plain": [
       "[('[[FULL_NAME_1]]', 'Oscar-Claude Monet'),\n",
       " ('[[DOB]]', '14 November 1840'),\n",
       " ('[[DOB]]', '5 December 1926'),\n",
       " ('[[FULL_NAME_2]]', 'soleil levant'),\n",
       " ('[[DOB]]', '1874'),\n",
       " ('[[FIRST_NAME_3]]', 'Monet'),\n",
       " ('[[FIRST_NAME_3]]', 'Monet'),\n",
       " ('[[FULL_NAME_4]]', 'Le Havre'),\n",
       " ('[[FULL_NAME_5]]', ' Louise-Justine Aubrée Monet'),\n",
       " ('[[FULL_NAME_6]]', 'Claude-Adolphe'),\n",
       " ('[[DOB]]', 'January 1857'),\n",
       " ('[[FULL_NAME_7]]', 'Marie-Jeanne Lecadre'),\n",
       " ('[[FULL_NAME_8]]', 'Charles Gleyre'),\n",
       " ('[[FULL_NAME_9]]', 'Auguste Renoir'),\n",
       " ('[[FULL_NAME_10]]', 'Eugène Boudin'),\n",
       " ('[[FIRST_NAME_3]]', 'Monet'),\n",
       " ('[[FIRST_NAME_11]]', 'Giverny')]"
      ]
     },
     "execution_count": 42,
     "metadata": {},
     "output_type": "execute_result"
    }
   ],
   "source": [
    "pairs"
   ]
  },
  {
   "cell_type": "code",
   "execution_count": 37,
   "id": "c3020744-f4c2-41a1-9893-2265a4c0b9f4",
   "metadata": {},
   "outputs": [],
   "source": [
    "recovered = ex.recover(span, pairs)"
   ]
  },
  {
   "cell_type": "code",
   "execution_count": 38,
   "id": "b1481f8c-3226-4c89-a676-16091270f7a6",
   "metadata": {},
   "outputs": [
    {
     "data": {
      "text/plain": [
       "'Charlie, Marnie and , Charlie Siang was his name, Siang born -- 12/21/2002, and Marnie Martindale (June 22, 1995) Martindale and Mr. Godfried the baker.  Godfried was not related to Marnie Martindale'"
      ]
     },
     "execution_count": 38,
     "metadata": {},
     "output_type": "execute_result"
    }
   ],
   "source": [
    "recovered"
   ]
  },
  {
   "cell_type": "code",
   "execution_count": null,
   "id": "c0fc9ca6-4954-4b48-9adf-63efd788e1d8",
   "metadata": {},
   "outputs": [],
   "source": []
  }
 ],
 "metadata": {
  "kernelspec": {
   "display_name": "python3.10.10",
   "language": "python",
   "name": "python3.10.10"
  },
  "language_info": {
   "codemirror_mode": {
    "name": "ipython",
    "version": 3
   },
   "file_extension": ".py",
   "mimetype": "text/x-python",
   "name": "python",
   "nbconvert_exporter": "python",
   "pygments_lexer": "ipython3",
   "version": "3.10.10"
  }
 },
 "nbformat": 4,
 "nbformat_minor": 5
}
